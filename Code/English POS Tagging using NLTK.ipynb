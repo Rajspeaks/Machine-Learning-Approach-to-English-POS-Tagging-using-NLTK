{
 "cells": [
  {
   "cell_type": "code",
   "execution_count": 14,
   "id": "71c0edea",
   "metadata": {},
   "outputs": [
    {
     "name": "stdout",
     "output_type": "stream",
     "text": [
      "['Ok', 'Rajdeep', '!', 'So', 'this', 'is', 'a', 'sample', 'text', 'to', 'work', 'on', 'NLTK', '.']\n"
     ]
    }
   ],
   "source": [
    "from nltk.tokenize import word_tokenize\n",
    "text = \"Ok Rajdeep! So this is a sample text to work on NLTK.\"\n",
    "print(word_tokenize(text))"
   ]
  },
  {
   "cell_type": "code",
   "execution_count": 16,
   "id": "e0551a64",
   "metadata": {},
   "outputs": [
    {
     "name": "stdout",
     "output_type": "stream",
     "text": [
      "['The', 'iWeb', 'corpus', 'contains', '14', 'billion', 'words', '(', 'about', '14', 'times', 'the', 'size', 'of', 'COCA', ')', 'in', '22', 'million', 'web', 'pages', '.', 'It', 'is', 'related', 'to', 'many', 'other', 'corpora', 'of', 'English', 'that', 'we', 'have', 'created', '(', 'and', 'which', 'were', 'formerly', 'known', 'as', 'the', 'BYU', 'Corpora', ')', ',', 'and', 'they', 'offer', 'unparalleled', 'insight', 'into', 'variation', 'in', 'English.Unlike', 'other', 'large', 'corpora', 'from', 'the', 'web', ',', 'the', 'nearly', '95,000', 'websites', 'in', 'iWeb', 'were', 'chosen', 'in', 'a', 'systematic', 'way', ',', 'and', 'the', 'websites', 'have', 'an', 'average', 'of', '240', 'web', 'pages', 'and', '145,000', 'words', 'each', '.', 'You', 'can', 'very', 'easily', 'and', 'quickly', 'focus', 'on', 'specific', 'websites', 'to', 'create', 'virtual', 'corpora', 'for', 'any', 'topic', ',', 'such', 'as', 'buddhism', ',', 'chocolate', ',', 'basketball', ',', 'or', 'nuclear', 'energy.There', 'are', 'four', 'main', 'ways', 'to', 'search', 'the', 'corpus.First', ',', 'you', 'can', 'browse', 'a', 'frequency', 'list', 'of', 'the', 'top', '60,000', 'words', 'in', 'the', 'corpus', ',', 'including', 'searches', 'by', 'word', 'form', ',', 'part', 'of', 'speech', ',', 'ranges', 'in', 'the', '60,000', 'word', 'list', ',', 'and', 'even', 'by', 'pronunciation', '.', 'This', 'should', 'be', 'particularly', 'useful', 'for', 'language', 'learners', 'and', 'teachers.Second', ',', 'you', 'can', 'search', 'by', 'individual', 'word', ',', 'and', 'see', 'collocates', ',', 'topics', ',', 'clusters', ',', 'websites', ',', 'concordance', 'lines', ',', 'and', 'related', 'words', 'for', 'each', 'of', 'these', 'words', '.', 'Note', 'that', 'some', 'of', 'these', 'searches', 'are', 'unique', 'to', 'iWeb', 'and', 'COCA.Third', ',', 'you', 'can', 'search', 'for', 'phrases', 'and', 'strings', '.', 'And', 'because', 'the', 'corpus', 'is', 'optimized', 'for', 'speed', ',', 'searches', 'for', 'substrings', '(', '*', 'ism', ',', 'un', '*', 'able', ')', 'and', 'phrases', 'are', 'very', 'fast', ',', 'e.g', '.', ':', 'got', 'VERB-ed', ',', 'BUY', '*', 'ADJ', 'NOUN', ',', 'gorgeous', 'NOUN', '--', 'and', 'even', 'high', 'frequency', 'phrases', 'like', ':', 'from', 'ADJ', 'to', 'ADJ', ',', 'phrasal', 'verbs', ',', 'or', 'NOUN', 'NOUN.Finally', ',', 'you', 'can', 'find', 'random', 'words', 'and', 'also', 'browse', 'through', 'randomly-selected', 'Words', 'of', 'the', 'Day', ',', 'and', 'then', 'save', 'new', 'words', 'and', 'come', 'back', 'and', 'review', 'them', 'later', '.']\n"
     ]
    }
   ],
   "source": [
    "from nltk.tokenize import word_tokenize\n",
    "text = \"The iWeb corpus contains 14 billion words (about 14 times the size of COCA) in 22 million web pages. It is related to many other corpora of English that we have created (and which were formerly known as the BYU Corpora), and they offer unparalleled insight into variation in English.Unlike other large corpora from the web, the nearly 95,000 websites in iWeb were chosen in a systematic way, and the websites have an average of 240 web pages and 145,000 words each. You can very easily and quickly focus on specific websites to create virtual corpora for any topic, such as buddhism, chocolate, basketball, or nuclear energy.There are four main ways to search the corpus.First, you can browse a frequency list of the top 60,000 words in the corpus, including searches by word form, part of speech, ranges in the 60,000 word list, and even by pronunciation. This should be particularly useful for language learners and teachers.Second, you can search by individual word, and see collocates, topics, clusters, websites, concordance lines, and related words for each of these words. Note that some of these searches are unique to iWeb and COCA.Third, you can search for phrases and strings. And because the corpus is optimized for speed, searches for substrings (*ism, un*able) and phrases are very fast, e.g.: got VERB-ed, BUY * ADJ NOUN, gorgeous NOUN -- and even high frequency phrases like: from ADJ to ADJ, phrasal verbs, or NOUN NOUN.Finally, you can find random words and also browse through randomly-selected Words of the Day, and then save new words and come back and review them later.\"\n",
    "print(word_tokenize(text))"
   ]
  },
  {
   "cell_type": "code",
   "execution_count": 18,
   "id": "eea46134",
   "metadata": {},
   "outputs": [
    {
     "name": "stdout",
     "output_type": "stream",
     "text": [
      "['Ok Rajdeep!', \"Let's try sentence tokenization.\", 'It will be great to do experiments.']\n"
     ]
    }
   ],
   "source": [
    "from nltk.tokenize import sent_tokenize\n",
    "text = \"Ok Rajdeep! Let's try sentence tokenization. It will be great to do experiments.\"\n",
    "print(sent_tokenize(text))"
   ]
  },
  {
   "cell_type": "code",
   "execution_count": 23,
   "id": "6c79416c",
   "metadata": {},
   "outputs": [
    {
     "name": "stdout",
     "output_type": "stream",
     "text": [
      "['India', 'is', 'the', 'land', 'of', 'people', 'of', 'diverse', 'religions', ',', 'traditions', 'and', 'castes', '.', 'People', 'of', 'India', 'represent', 'the', 'essence', 'of', 'our', 'country', '.', 'The', 'diverse', 'colours', 'of', 'India', 'are', 'its', 'cultures', ',', 'traditions', 'and', 'religions', '.', 'It', 'is', 'the', 'land', 'of', 'rich', 'vegetation', 'and', 'wildlife', '.', 'Art', 'and', 'entertainment', 'is', 'the', 'life', 'of', 'India', '.', 'You', 'will', 'find', 'below', 'a', 'number', 'of', 'short', 'and', 'long', 'paragraphs', 'on', 'India', '.', 'We', 'hope', 'these', 'India', 'paragraphs', 'will', 'help', 'students', 'in', 'completing', 'their', 'school', 'assignments', '.', 'These', 'will', 'also', 'help', 'children', 'to', 'write', 'and', 'read', 'out', 'paragraphs', 'with', 'simple', 'words', 'and', 'small', 'sentences', '.', 'Students', 'can', 'select', 'any', 'paragraph', 'on', 'India', 'according', 'to', 'their', 'particular', 'requirement', '.', 'India', 'is', 'our', 'nation', '.', 'It', 'is', 'located', 'in', 'the', 'center', 'of', 'South', 'Asia', '.', 'In', 'world', ',', 'Republic', 'of', 'India', 'is', 'the', 'seventh', 'largest', 'country', 'by', 'area', 'and', 'the', 'second', 'most', 'populated', 'country', 'after', 'China', '.', 'India', 'takes', 'honour', 'in', 'being', 'the', 'largest', 'democracy', 'in', 'the', 'world', '.', 'India', 'is', 'a', 'diverse', 'country', 'with', 'diverse', 'cultures', ',', 'languages', ',', 'climates', 'and', 'geography', '.', 'India', 'is', 'a', 'federation', 'under', 'republic', 'government', 'governed', 'under', 'parliamentary', 'system', '.', 'There', 'are', 'twenty', 'nine', 'states', 'and', 'seven', 'union', 'territories', 'in', 'India', '.', 'The', 'national', 'capital', 'of', 'India', 'is', 'Delhi', '.', 'India', 'is', 'well', 'known', 'for', 'its', 'rich', 'culture', 'and', 'cuisines', ',', 'diverse', 'wildlife', ',', 'flora', 'and', 'fauna', 'as', 'well', 'as', 'for', 'its', 'genius', 'minds', 'that', 'have', 'made', 'us', 'proud', 'around', 'the', 'globe', '.', 'India', 'is', 'a', 'highly', 'populated', 'country', 'located', 'in', 'the', 'center', 'of', 'South', 'Asia', '.', 'It', 'is', 'an', 'extremely', 'diverse', 'nation', 'with', 'major', 'differences', 'in', 'culture', ',', 'climate', ',', 'religion', 'and', 'languages', '.', 'India', 'has', 'chosen', 'various', 'symbols', 'that', 'portray', 'our', 'nation', '’', 's', 'image', '.', 'Indian', 'National', 'flag', 'is', 'tricolored', '–', 'saffron', ',', 'white', 'and', 'green', '.', 'The', 'Ashok', 'chakra', 'in', 'the', 'Centre', 'has', 'a', '24', 'spoke', 'wheel', 'in', 'navy', 'blue', 'colour', 'that', 'denotes', 'righteousness', '.', 'Our', 'national', 'anthem', 'is', 'Jana', 'Ganna', 'Mana', 'and', 'the', 'national', 'song', 'is', 'Vande', 'Matram', 'respectively', '.', 'Our', 'national', 'emblem', 'consists', 'is', 'of', 'four', 'lions', 'sitting', 'back', 'to', 'back', 'on', 'a', 'cylindrical', 'base', 'that', 'has', 'four', 'Ashok', 'chakras', 'on', 'each', 'side', 'out', 'of', 'which', 'only', 'one', 'is', 'visible', 'in', 'the', 'front', '.', 'Three', 'lions', 'are', 'visible', 'and', 'one', 'is', 'hidden', '.', 'It', 'is', 'the', 'symbol', 'of', 'sovereignty', 'and', 'denotes', 'strength', 'and', 'courage', '.', 'The', 'national', 'animal', 'of', 'India', 'is', 'Bengal', 'Tiger', 'which', 'is', 'a', 'symbol', 'of', 'strength', ',', 'grace', 'and', 'agility', ',', 'unparalleled', 'by', 'other', 'animals', '.', 'National', 'bird', 'of', 'India', 'is', 'the', 'beautiful', ',', 'colourful', 'and', 'graceful', 'Peacock', '.', 'It', 'symbolizes', 'elegance', '.', 'National', 'flower', 'of', 'India', 'is', 'lotus', 'that', 'symbolizes', 'purity', '.', 'It', 'represents', 'beauty', 'and', 'has', 'special', 'Importance', 'in', 'Hindi', 'religion', 'and', 'mythology', '.', 'National', 'fruit', 'of', 'our', 'nation', 'is', 'Mango', 'and', 'it', 'is', 'the', 'symbol', 'of', 'tropical', 'climate', 'in', 'our', 'country', '.', 'Our', 'national', 'tree', 'is', 'banyan', 'tree', 'that', 'symbolizes', 'immortality', 'and', 'country', '’', 's', 'unity', '.', 'Ganga', 'is', 'our', 'national', 'river', 'as', 'in', 'Hinduism', 'it', 'is', 'the', 'most', 'sacred', 'river', '.', 'Elephant', 'has', 'been', 'declared', 'our', 'national', 'heritage', 'animal', 'in', '2010', '.', 'Ganga', 'river', 'dolphin', 'is', 'declared', 'our', 'national', 'aquatic', 'animal', 'and', 'it', 'can', 'only', 'survive', 'in', 'clean', 'water', 'so', 'it', 'is', 'said', 'that', 'this', 'mammal', 'represents', 'the', 'purity', 'of', 'our', 'holy', 'river', 'Ganga', '.', 'National', 'reptile', 'of', 'our', 'nation', 'is', 'snake', '.', 'These', 'symbols', 'represent', 'the', 'essence', 'of', 'our', 'nation', '.']\n",
      "['India is the land of people of diverse religions, traditions and castes.', 'People of India represent the essence of our country.', 'The diverse colours of India are its cultures, traditions and religions.', 'It is the land of rich vegetation and wildlife.', 'Art and entertainment is the life of India.', 'You will find below a number of short and long paragraphs on India.', 'We hope these India paragraphs will help students in completing their school assignments.', 'These will also help children to write and read out paragraphs with simple words and small sentences.', 'Students can select any paragraph on India according to their particular requirement.', 'India is our nation.', 'It is located in the center of South Asia.', 'In world, Republic of India is the seventh largest country by area and the second most populated country after China.', 'India takes honour in being the largest democracy in the world.', 'India is a diverse country with diverse cultures, languages, climates and geography.', 'India is a federation under republic government governed under parliamentary system.', 'There are twenty nine states and seven union territories in India.', 'The national capital of India is Delhi.', 'India is well known for its rich culture and cuisines, diverse wildlife, flora and fauna as well as for its genius minds that have made us proud around the globe.', 'India is a highly populated country located in the center of South Asia.', 'It is an extremely diverse nation with major differences in culture, climate, religion and languages.', 'India has chosen various symbols that portray our nation’s image.', 'Indian National flag is tricolored – saffron, white and green.', 'The Ashok chakra in the Centre has a 24 spoke wheel in navy blue colour that denotes righteousness.', 'Our national anthem is Jana Ganna Mana and the national song is Vande Matram respectively.', 'Our national emblem consists is of four lions sitting back to back on a cylindrical base that has four Ashok chakras on each side out of which only one is visible in the front.', 'Three lions are visible and one is hidden.', 'It is the symbol of sovereignty and denotes strength and courage.', 'The national animal of India is Bengal Tiger which is a symbol of strength, grace and agility, unparalleled by other animals.', 'National bird of India is the beautiful, colourful and graceful Peacock.', 'It symbolizes elegance.', 'National flower of India is lotus that symbolizes purity.', 'It represents beauty and has special Importance in Hindi religion and mythology.', 'National fruit of our nation is Mango and it is the symbol of tropical climate in our country.', 'Our national tree is banyan tree that symbolizes immortality and country’s unity.', 'Ganga is our national river as in Hinduism it is the most sacred river.', 'Elephant has been declared our national heritage animal in 2010.', 'Ganga river dolphin is declared our national aquatic animal and it can only survive in clean water so it is said that this mammal represents the purity of our holy river Ganga.', 'National reptile of our nation is snake.', 'These symbols represent the essence of our nation.']\n"
     ]
    }
   ],
   "source": [
    "from nltk.tokenize import word_tokenize\n",
    "from nltk.tokenize import sent_tokenize\n",
    "text = \"India is the land of people of diverse religions, traditions and castes. People of India represent the essence of our country. The diverse colours of India are its cultures, traditions and religions. It is the land of rich vegetation and wildlife. Art and entertainment is the life of India. You will find below a number of short and long paragraphs on India. We hope these India paragraphs will help students in completing their school assignments. These will also help children to write and read out paragraphs with simple words and small sentences. Students can select any paragraph on India according to their particular requirement. India is our nation. It is located in the center of South Asia. In world, Republic of India is the seventh largest country by area and the second most populated country after China. India takes honour in being the largest democracy in the world. India is a diverse country with diverse cultures, languages, climates and geography. India is a federation under republic government governed under parliamentary system. There are twenty nine states and seven union territories in India. The national capital of India is Delhi. India is well known for its rich culture and cuisines, diverse wildlife, flora and fauna as well as for its genius minds that have made us proud around the globe. India is a highly populated country located in the center of South Asia. It is an extremely diverse nation with major differences in culture, climate, religion and languages. India has chosen various symbols that portray our nation’s image. Indian National flag is tricolored – saffron, white and green. The Ashok chakra in the Centre has a 24 spoke wheel in navy blue colour that denotes righteousness. Our national anthem is Jana Ganna Mana and the national song is Vande Matram respectively. Our national emblem consists is of four lions sitting back to back on a cylindrical base that has four Ashok chakras on each side out of which only one is visible in the front. Three lions are visible and one is hidden. It is the symbol of sovereignty and denotes strength and courage. The national animal of India is Bengal Tiger which is a symbol of strength, grace and agility, unparalleled by other animals. National bird of India is the beautiful, colourful and graceful Peacock. It symbolizes elegance. National flower of India is lotus that symbolizes purity. It represents beauty and has special Importance in Hindi religion and mythology. National fruit of our nation is Mango and it is the symbol of tropical climate in our country. Our national tree is banyan tree that symbolizes immortality and country’s unity. Ganga is our national river as in Hinduism it is the most sacred river. Elephant has been declared our national heritage animal in 2010. Ganga river dolphin is declared our national aquatic animal and it can only survive in clean water so it is said that this mammal represents the purity of our holy river Ganga. National reptile of our nation is snake. These symbols represent the essence of our nation.\"\n",
    "print(word_tokenize(text))\n",
    "print(sent_tokenize(text))"
   ]
  },
  {
   "cell_type": "code",
   "execution_count": 9,
   "id": "e86c43e3",
   "metadata": {},
   "outputs": [
    {
     "data": {
      "text/plain": [
       "[('Hello', 'NNP'), ('Rajdeep', 'NNP'), ('!', '.')]"
      ]
     },
     "execution_count": 9,
     "metadata": {},
     "output_type": "execute_result"
    }
   ],
   "source": [
    "import nltk\n",
    "from nltk.tokenize import word_tokenize\n",
    "text = word_tokenize(\"Hello Rajdeep!\")\n",
    "nltk.pos_tag(text)"
   ]
  },
  {
   "cell_type": "code",
   "execution_count": 11,
   "id": "fac220e7",
   "metadata": {},
   "outputs": [
    {
     "data": {
      "text/plain": [
       "[('I', 'PRP'),\n",
       " ('love', 'VBP'),\n",
       " ('computer', 'NN'),\n",
       " ('science', 'NN'),\n",
       " ('.', '.'),\n",
       " ('I', 'PRP'),\n",
       " ('love', 'VBP'),\n",
       " ('technology', 'NN'),\n",
       " ('.', '.'),\n",
       " ('To', 'TO'),\n",
       " ('me', 'PRP'),\n",
       " (',', ','),\n",
       " ('Technology', 'NNP'),\n",
       " ('is', 'VBZ'),\n",
       " ('the', 'DT'),\n",
       " ('God', 'NNP'),\n",
       " ('and', 'CC'),\n",
       " ('God', 'NNP'),\n",
       " ('has', 'VBZ'),\n",
       " ('made', 'VBN'),\n",
       " ('us', 'PRP'),\n",
       " ('with', 'IN'),\n",
       " ('their', 'PRP$'),\n",
       " ('deivine', 'NN'),\n",
       " ('technology', 'NN'),\n",
       " ('.', '.')]"
      ]
     },
     "execution_count": 11,
     "metadata": {},
     "output_type": "execute_result"
    }
   ],
   "source": [
    "import nltk\n",
    "from nltk.tokenize import word_tokenize\n",
    "text = word_tokenize(\"I love computer science. I love technology. To me, Technology is the God and God has made us with their deivine technology.\")\n",
    "nltk.pos_tag(text)"
   ]
  },
  {
   "cell_type": "code",
   "execution_count": 15,
   "id": "ecdebed8",
   "metadata": {},
   "outputs": [
    {
     "data": {
      "text/plain": [
       "[('Rabindranath', 'NNP'),\n",
       " ('Tagore', 'NNP'),\n",
       " (',', ','),\n",
       " ('Bengali', 'NNP'),\n",
       " ('Rabīndranāth', 'NNP'),\n",
       " ('Ṭhākur', 'NNP'),\n",
       " (',', ','),\n",
       " ('(', '('),\n",
       " ('born', 'VBN'),\n",
       " ('May', 'NNP'),\n",
       " ('7', 'CD'),\n",
       " (',', ','),\n",
       " ('1861', 'CD'),\n",
       " (',', ','),\n",
       " ('Calcutta', 'NNP'),\n",
       " ('[', 'NNP'),\n",
       " ('now', 'RB'),\n",
       " ('Kolkata', 'NNP'),\n",
       " (']', 'NNP'),\n",
       " (',', ','),\n",
       " ('India—died', 'NNP'),\n",
       " ('August', 'NNP'),\n",
       " ('7', 'CD'),\n",
       " (',', ','),\n",
       " ('1941', 'CD'),\n",
       " (',', ','),\n",
       " ('Calcutta', 'NNP'),\n",
       " (')', ')'),\n",
       " (',', ','),\n",
       " ('Bengali', 'NNP'),\n",
       " ('poet', 'NN'),\n",
       " (',', ','),\n",
       " ('short-story', 'JJ'),\n",
       " ('writer', 'NN'),\n",
       " (',', ','),\n",
       " ('song', 'RB'),\n",
       " ('composer', 'NN'),\n",
       " (',', ','),\n",
       " ('playwright', 'NN'),\n",
       " (',', ','),\n",
       " ('essayist', 'NN'),\n",
       " (',', ','),\n",
       " ('and', 'CC'),\n",
       " ('painter', 'NN'),\n",
       " ('who', 'WP'),\n",
       " ('introduced', 'VBD'),\n",
       " ('new', 'JJ'),\n",
       " ('prose', 'NN'),\n",
       " ('and', 'CC'),\n",
       " ('verse', 'NN'),\n",
       " ('forms', 'NNS'),\n",
       " ('and', 'CC'),\n",
       " ('the', 'DT'),\n",
       " ('use', 'NN'),\n",
       " ('of', 'IN'),\n",
       " ('colloquial', 'JJ'),\n",
       " ('language', 'NN'),\n",
       " ('into', 'IN'),\n",
       " ('Bengali', 'NNP'),\n",
       " ('literature', 'NN'),\n",
       " (',', ','),\n",
       " ('thereby', 'RB'),\n",
       " ('freeing', 'VBG'),\n",
       " ('it', 'PRP'),\n",
       " ('from', 'IN'),\n",
       " ('traditional', 'JJ'),\n",
       " ('models', 'NNS'),\n",
       " ('based', 'VBN'),\n",
       " ('on', 'IN'),\n",
       " ('classical', 'JJ'),\n",
       " ('Sanskrit', 'NNP'),\n",
       " ('.', '.'),\n",
       " ('He', 'PRP'),\n",
       " ('was', 'VBD'),\n",
       " ('highly', 'RB'),\n",
       " ('influential', 'JJ'),\n",
       " ('in', 'IN'),\n",
       " ('introducing', 'VBG'),\n",
       " ('Indian', 'JJ'),\n",
       " ('culture', 'NN'),\n",
       " ('to', 'TO'),\n",
       " ('the', 'DT'),\n",
       " ('West', 'NNP'),\n",
       " ('and', 'CC'),\n",
       " ('vice', 'NN'),\n",
       " ('versa', 'NN'),\n",
       " (',', ','),\n",
       " ('and', 'CC'),\n",
       " ('he', 'PRP'),\n",
       " ('is', 'VBZ'),\n",
       " ('generally', 'RB'),\n",
       " ('regarded', 'VBN'),\n",
       " ('as', 'IN'),\n",
       " ('the', 'DT'),\n",
       " ('outstanding', 'JJ'),\n",
       " ('creative', 'JJ'),\n",
       " ('artist', 'NN'),\n",
       " ('of', 'IN'),\n",
       " ('early', 'JJ'),\n",
       " ('20th-century', 'JJ'),\n",
       " ('India', 'NNP'),\n",
       " ('.', '.'),\n",
       " ('In', 'IN'),\n",
       " ('1913', 'CD'),\n",
       " ('he', 'PRP'),\n",
       " ('became', 'VBD'),\n",
       " ('the', 'DT'),\n",
       " ('first', 'JJ'),\n",
       " ('non-European', 'JJ'),\n",
       " ('to', 'TO'),\n",
       " ('receive', 'VB'),\n",
       " ('the', 'DT'),\n",
       " ('Nobel', 'NNP'),\n",
       " ('Prize', 'NNP'),\n",
       " ('for', 'IN'),\n",
       " ('Literature.The', 'NNP'),\n",
       " ('son', 'NN'),\n",
       " ('of', 'IN'),\n",
       " ('the', 'DT'),\n",
       " ('religious', 'JJ'),\n",
       " ('reformer', 'NN'),\n",
       " ('Debendranath', 'NNP'),\n",
       " ('Tagore', 'NNP'),\n",
       " (',', ','),\n",
       " ('he', 'PRP'),\n",
       " ('early', 'RB'),\n",
       " ('began', 'VBD'),\n",
       " ('to', 'TO'),\n",
       " ('write', 'VB'),\n",
       " ('verses', 'NNS'),\n",
       " (',', ','),\n",
       " ('and', 'CC'),\n",
       " (',', ','),\n",
       " ('after', 'IN'),\n",
       " ('incomplete', 'JJ'),\n",
       " ('studies', 'NNS'),\n",
       " ('in', 'IN'),\n",
       " ('England', 'NNP'),\n",
       " ('in', 'IN'),\n",
       " ('the', 'DT'),\n",
       " ('late', 'JJ'),\n",
       " ('1870s', 'NNS'),\n",
       " (',', ','),\n",
       " ('he', 'PRP'),\n",
       " ('returned', 'VBD'),\n",
       " ('to', 'TO'),\n",
       " ('India', 'NNP'),\n",
       " ('.', '.'),\n",
       " ('There', 'EX'),\n",
       " ('he', 'PRP'),\n",
       " ('published', 'VBD'),\n",
       " ('several', 'JJ'),\n",
       " ('books', 'NNS'),\n",
       " ('of', 'IN'),\n",
       " ('poetry', 'NN'),\n",
       " ('in', 'IN'),\n",
       " ('the', 'DT'),\n",
       " ('1880s', 'CD'),\n",
       " ('and', 'CC'),\n",
       " ('completed', 'VBN'),\n",
       " ('Manasi', 'NNP'),\n",
       " ('(', '('),\n",
       " ('1890', 'CD'),\n",
       " (')', ')'),\n",
       " (',', ','),\n",
       " ('a', 'DT'),\n",
       " ('collection', 'NN'),\n",
       " ('that', 'WDT'),\n",
       " ('marks', 'VBZ'),\n",
       " ('the', 'DT'),\n",
       " ('maturing', 'NN'),\n",
       " ('of', 'IN'),\n",
       " ('his', 'PRP$'),\n",
       " ('genius', 'NN'),\n",
       " ('.', '.'),\n",
       " ('It', 'PRP'),\n",
       " ('contains', 'VBZ'),\n",
       " ('some', 'DT'),\n",
       " ('of', 'IN'),\n",
       " ('his', 'PRP$'),\n",
       " ('best-known', 'JJ'),\n",
       " ('poems', 'NNS'),\n",
       " (',', ','),\n",
       " ('including', 'VBG'),\n",
       " ('many', 'JJ'),\n",
       " ('in', 'IN'),\n",
       " ('verse', 'NN'),\n",
       " ('forms', 'NNS'),\n",
       " ('new', 'JJ'),\n",
       " ('to', 'TO'),\n",
       " ('Bengali', 'NNP'),\n",
       " ('.', '.'),\n",
       " ('Rabindranath', 'NNP'),\n",
       " ('Tagore', 'NNP'),\n",
       " ('is', 'VBZ'),\n",
       " ('the', 'DT'),\n",
       " ('pride', 'NN'),\n",
       " ('of', 'IN'),\n",
       " ('Bengal', 'NNP'),\n",
       " ('.', '.'),\n",
       " ('He', 'PRP'),\n",
       " ('got', 'VBD'),\n",
       " ('a', 'DT'),\n",
       " ('divine', 'JJ'),\n",
       " ('talent', 'NN'),\n",
       " ('of', 'IN'),\n",
       " ('writing', 'NN'),\n",
       " ('.', '.'),\n",
       " ('If', 'IN'),\n",
       " ('you', 'PRP'),\n",
       " ('read', 'VBP'),\n",
       " ('his', 'PRP$'),\n",
       " ('poet', 'NN'),\n",
       " ('or', 'CC'),\n",
       " ('literures', 'NNS'),\n",
       " (',', ','),\n",
       " ('you', 'PRP'),\n",
       " ('will', 'MD'),\n",
       " ('surely', 'RB'),\n",
       " ('get', 'VB'),\n",
       " ('influenced', 'JJ'),\n",
       " (',', ','),\n",
       " ('filled', 'VBN'),\n",
       " ('with', 'IN'),\n",
       " ('lots', 'NNS'),\n",
       " ('of', 'IN'),\n",
       " ('emotions', 'NNS'),\n",
       " ('.', '.')]"
      ]
     },
     "execution_count": 15,
     "metadata": {},
     "output_type": "execute_result"
    }
   ],
   "source": [
    "import nltk\n",
    "from nltk.tokenize import word_tokenize\n",
    "text = word_tokenize(\"Rabindranath Tagore, Bengali Rabīndranāth Ṭhākur, (born May 7, 1861, Calcutta [now Kolkata], India—died August 7, 1941, Calcutta), Bengali poet, short-story writer, song composer, playwright, essayist, and painter who introduced new prose and verse forms and the use of colloquial language into Bengali literature, thereby freeing it from traditional models based on classical Sanskrit. He was highly influential in introducing Indian culture to the West and vice versa, and he is generally regarded as the outstanding creative artist of early 20th-century India. In 1913 he became the first non-European to receive the Nobel Prize for Literature.The son of the religious reformer Debendranath Tagore, he early began to write verses, and, after incomplete studies in England in the late 1870s, he returned to India. There he published several books of poetry in the 1880s and completed Manasi (1890), a collection that marks the maturing of his genius. It contains some of his best-known poems, including many in verse forms new to Bengali. Rabindranath Tagore is the pride of Bengal. He got a divine talent of writing. If you read his poet or literures, you will surely get influenced, filled with lots of emotions.\")\n",
    "nltk.pos_tag(text)"
   ]
  },
  {
   "cell_type": "code",
   "execution_count": 12,
   "id": "0bd3a758",
   "metadata": {},
   "outputs": [
    {
     "name": "stdout",
     "output_type": "stream",
     "text": [
      "[('Are', 'NNP'), ('you', 'PRP'), ('excited', 'VBD'), ('to', 'TO'), ('work', 'VB'), ('on', 'IN'), ('NLP', 'NNP'), ('?', '.')]\n",
      "[('I', 'PRP'), ('know', 'VBP'), ('you', 'PRP'), ('can', 'MD'), ('even', 'RB'), ('explore', 'VB'), ('more', 'JJR'), ('.', '.')]\n",
      "[('Take', 'VB'), ('it', 'PRP'), ('to', 'TO'), ('the', 'DT'), ('next', 'JJ'), ('level', 'NN'), ('.', '.')]\n"
     ]
    }
   ],
   "source": [
    "import nltk\n",
    "text = \"Are you excited to work on NLP? I know you can even explore more. Take it to the next level.\"\n",
    "sentence = nltk.sent_tokenize(text)\n",
    "for sent in sentence:\n",
    "\t print(nltk.pos_tag(nltk.word_tokenize(sent)))\n"
   ]
  },
  {
   "cell_type": "code",
   "execution_count": null,
   "id": "f7db60c1",
   "metadata": {},
   "outputs": [],
   "source": []
  }
 ],
 "metadata": {
  "kernelspec": {
   "display_name": "Python 3 (ipykernel)",
   "language": "python",
   "name": "python3"
  },
  "language_info": {
   "codemirror_mode": {
    "name": "ipython",
    "version": 3
   },
   "file_extension": ".py",
   "mimetype": "text/x-python",
   "name": "python",
   "nbconvert_exporter": "python",
   "pygments_lexer": "ipython3",
   "version": "3.8.10"
  }
 },
 "nbformat": 4,
 "nbformat_minor": 5
}

